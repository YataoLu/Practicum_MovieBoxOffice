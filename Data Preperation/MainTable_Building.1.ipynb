{
 "cells": [
  {
   "cell_type": "code",
   "execution_count": 1,
   "metadata": {
    "collapsed": true
   },
   "outputs": [],
   "source": [
    "import pandas as pd"
   ]
  },
  {
   "cell_type": "code",
   "execution_count": 26,
   "metadata": {
    "collapsed": true
   },
   "outputs": [],
   "source": [
    "#Read summar and movie production company information\n",
    "\n",
    "df_Summary = pd.read_csv(\"/home/youdan/Documents/Practicum/data/movie_summary.csv\")\n",
    "df_movie_ProductionComapny = pd.read_csv(\"/home/youdan/Documents/Practicum/data/movie_production_companies.csv\")"
   ]
  },
  {
   "cell_type": "code",
   "execution_count": 29,
   "metadata": {},
   "outputs": [],
   "source": [
    "#delet useless columns of movie production company information\n",
    "df_movie_ProductionComapny = df_movie_ProductionComapny.drop('display_name', axis = 1)"
   ]
  },
  {
   "cell_type": "code",
   "execution_count": 40,
   "metadata": {},
   "outputs": [],
   "source": [
    "#Merge summary with movie production company information\n",
    "\n",
    "df_Summary_1 = df_Summary.merge(df_movie_ProductionComapny, on = 'odid', how = 'left')"
   ]
  },
  {
   "cell_type": "code",
   "execution_count": 41,
   "metadata": {},
   "outputs": [
    {
     "data": {
      "text/plain": [
       "(23821, 24)"
      ]
     },
     "execution_count": 41,
     "metadata": {},
     "output_type": "execute_result"
    }
   ],
   "source": [
    "df_Summary_1.shape"
   ]
  },
  {
   "cell_type": "code",
   "execution_count": 42,
   "metadata": {},
   "outputs": [
    {
     "data": {
      "text/html": [
       "<div>\n",
       "<table border=\"1\" class=\"dataframe\">\n",
       "  <thead>\n",
       "    <tr style=\"text-align: right;\">\n",
       "      <th></th>\n",
       "      <th>odid</th>\n",
       "      <th>display_name</th>\n",
       "      <th>od_name</th>\n",
       "      <th>production_year</th>\n",
       "      <th>running_time</th>\n",
       "      <th>sequel</th>\n",
       "      <th>distributor</th>\n",
       "      <th>opening_weekend_revenue</th>\n",
       "      <th>opening_weekend_theaters</th>\n",
       "      <th>maximum_theaters</th>\n",
       "      <th>...</th>\n",
       "      <th>domestic_bluray_spending</th>\n",
       "      <th>creative_type</th>\n",
       "      <th>source</th>\n",
       "      <th>production_method</th>\n",
       "      <th>genre</th>\n",
       "      <th>production_budget</th>\n",
       "      <th>domestic_box_office</th>\n",
       "      <th>international_box_office</th>\n",
       "      <th>inflation_adjusted_domestic_box_office</th>\n",
       "      <th>production_company</th>\n",
       "    </tr>\n",
       "  </thead>\n",
       "  <tbody>\n",
       "    <tr>\n",
       "      <th>0</th>\n",
       "      <td>10100</td>\n",
       "      <td>Titanic</td>\n",
       "      <td>Titanic</td>\n",
       "      <td>1997</td>\n",
       "      <td>194.0</td>\n",
       "      <td>0.0</td>\n",
       "      <td>Paramount Pictures</td>\n",
       "      <td>28638131</td>\n",
       "      <td>2674</td>\n",
       "      <td>3265</td>\n",
       "      <td>...</td>\n",
       "      <td>NaN</td>\n",
       "      <td>Historical Fiction</td>\n",
       "      <td>Original Screenplay</td>\n",
       "      <td>Live Action</td>\n",
       "      <td>Thriller/Suspense</td>\n",
       "      <td>200000000</td>\n",
       "      <td>658672302.0</td>\n",
       "      <td>1.548943e+09</td>\n",
       "      <td>1.147349e+09</td>\n",
       "      <td>20th Century Fox</td>\n",
       "    </tr>\n",
       "    <tr>\n",
       "      <th>1</th>\n",
       "      <td>10100</td>\n",
       "      <td>Titanic</td>\n",
       "      <td>Titanic</td>\n",
       "      <td>1997</td>\n",
       "      <td>194.0</td>\n",
       "      <td>0.0</td>\n",
       "      <td>Paramount Pictures</td>\n",
       "      <td>28638131</td>\n",
       "      <td>2674</td>\n",
       "      <td>3265</td>\n",
       "      <td>...</td>\n",
       "      <td>NaN</td>\n",
       "      <td>Historical Fiction</td>\n",
       "      <td>Original Screenplay</td>\n",
       "      <td>Live Action</td>\n",
       "      <td>Thriller/Suspense</td>\n",
       "      <td>200000000</td>\n",
       "      <td>658672302.0</td>\n",
       "      <td>1.548943e+09</td>\n",
       "      <td>1.147349e+09</td>\n",
       "      <td>Paramount Pictures</td>\n",
       "    </tr>\n",
       "    <tr>\n",
       "      <th>2</th>\n",
       "      <td>10100</td>\n",
       "      <td>Titanic</td>\n",
       "      <td>Titanic</td>\n",
       "      <td>1997</td>\n",
       "      <td>194.0</td>\n",
       "      <td>0.0</td>\n",
       "      <td>Paramount Pictures</td>\n",
       "      <td>28638131</td>\n",
       "      <td>2674</td>\n",
       "      <td>3265</td>\n",
       "      <td>...</td>\n",
       "      <td>NaN</td>\n",
       "      <td>Historical Fiction</td>\n",
       "      <td>Original Screenplay</td>\n",
       "      <td>Live Action</td>\n",
       "      <td>Thriller/Suspense</td>\n",
       "      <td>200000000</td>\n",
       "      <td>658672302.0</td>\n",
       "      <td>1.548943e+09</td>\n",
       "      <td>1.147349e+09</td>\n",
       "      <td>Lightstorm Entertainment</td>\n",
       "    </tr>\n",
       "    <tr>\n",
       "      <th>3</th>\n",
       "      <td>20100</td>\n",
       "      <td>The Dark Knight</td>\n",
       "      <td>Dark Knight The</td>\n",
       "      <td>2008</td>\n",
       "      <td>152.0</td>\n",
       "      <td>1.0</td>\n",
       "      <td>Warner Bros.</td>\n",
       "      <td>158411483</td>\n",
       "      <td>4366</td>\n",
       "      <td>4366</td>\n",
       "      <td>...</td>\n",
       "      <td>33598926.0</td>\n",
       "      <td>Super Hero</td>\n",
       "      <td>Based on Comic/Graphic Novel</td>\n",
       "      <td>Live Action</td>\n",
       "      <td>Action</td>\n",
       "      <td>185000000</td>\n",
       "      <td>533345358.0</td>\n",
       "      <td>4.695460e+08</td>\n",
       "      <td>6.260806e+08</td>\n",
       "      <td>Legendary Pictures</td>\n",
       "    </tr>\n",
       "    <tr>\n",
       "      <th>4</th>\n",
       "      <td>20100</td>\n",
       "      <td>The Dark Knight</td>\n",
       "      <td>Dark Knight The</td>\n",
       "      <td>2008</td>\n",
       "      <td>152.0</td>\n",
       "      <td>1.0</td>\n",
       "      <td>Warner Bros.</td>\n",
       "      <td>158411483</td>\n",
       "      <td>4366</td>\n",
       "      <td>4366</td>\n",
       "      <td>...</td>\n",
       "      <td>33598926.0</td>\n",
       "      <td>Super Hero</td>\n",
       "      <td>Based on Comic/Graphic Novel</td>\n",
       "      <td>Live Action</td>\n",
       "      <td>Action</td>\n",
       "      <td>185000000</td>\n",
       "      <td>533345358.0</td>\n",
       "      <td>4.695460e+08</td>\n",
       "      <td>6.260806e+08</td>\n",
       "      <td>Warner Bros.</td>\n",
       "    </tr>\n",
       "  </tbody>\n",
       "</table>\n",
       "<p>5 rows × 24 columns</p>\n",
       "</div>"
      ],
      "text/plain": [
       "    odid     display_name          od_name  production_year  running_time  \\\n",
       "0  10100          Titanic          Titanic             1997         194.0   \n",
       "1  10100          Titanic          Titanic             1997         194.0   \n",
       "2  10100          Titanic          Titanic             1997         194.0   \n",
       "3  20100  The Dark Knight  Dark Knight The             2008         152.0   \n",
       "4  20100  The Dark Knight  Dark Knight The             2008         152.0   \n",
       "\n",
       "   sequel         distributor  opening_weekend_revenue  \\\n",
       "0     0.0  Paramount Pictures                 28638131   \n",
       "1     0.0  Paramount Pictures                 28638131   \n",
       "2     0.0  Paramount Pictures                 28638131   \n",
       "3     1.0        Warner Bros.                158411483   \n",
       "4     1.0        Warner Bros.                158411483   \n",
       "\n",
       "   opening_weekend_theaters  maximum_theaters            ...             \\\n",
       "0                      2674              3265            ...              \n",
       "1                      2674              3265            ...              \n",
       "2                      2674              3265            ...              \n",
       "3                      4366              4366            ...              \n",
       "4                      4366              4366            ...              \n",
       "\n",
       "   domestic_bluray_spending       creative_type                        source  \\\n",
       "0                       NaN  Historical Fiction           Original Screenplay   \n",
       "1                       NaN  Historical Fiction           Original Screenplay   \n",
       "2                       NaN  Historical Fiction           Original Screenplay   \n",
       "3                33598926.0          Super Hero  Based on Comic/Graphic Novel   \n",
       "4                33598926.0          Super Hero  Based on Comic/Graphic Novel   \n",
       "\n",
       "   production_method              genre production_budget domestic_box_office  \\\n",
       "0        Live Action  Thriller/Suspense         200000000         658672302.0   \n",
       "1        Live Action  Thriller/Suspense         200000000         658672302.0   \n",
       "2        Live Action  Thriller/Suspense         200000000         658672302.0   \n",
       "3        Live Action             Action         185000000         533345358.0   \n",
       "4        Live Action             Action         185000000         533345358.0   \n",
       "\n",
       "  international_box_office inflation_adjusted_domestic_box_office  \\\n",
       "0             1.548943e+09                           1.147349e+09   \n",
       "1             1.548943e+09                           1.147349e+09   \n",
       "2             1.548943e+09                           1.147349e+09   \n",
       "3             4.695460e+08                           6.260806e+08   \n",
       "4             4.695460e+08                           6.260806e+08   \n",
       "\n",
       "         production_company  \n",
       "0          20th Century Fox  \n",
       "1        Paramount Pictures  \n",
       "2  Lightstorm Entertainment  \n",
       "3        Legendary Pictures  \n",
       "4              Warner Bros.  \n",
       "\n",
       "[5 rows x 24 columns]"
      ]
     },
     "execution_count": 42,
     "metadata": {},
     "output_type": "execute_result"
    }
   ],
   "source": [
    "df_Summary_1.head()"
   ]
  },
  {
   "cell_type": "code",
   "execution_count": 71,
   "metadata": {
    "collapsed": true
   },
   "outputs": [],
   "source": [
    "#Read movie rating\n",
    "df_MovieRatings = pd.read_csv(\"/home/youdan/Documents/Practicum/data/movie_ratings.csv\")"
   ]
  },
  {
   "cell_type": "code",
   "execution_count": 72,
   "metadata": {},
   "outputs": [],
   "source": [
    "#Drop useless column\n",
    "df_MovieRatings = df_MovieRatings.drop(['reason','odid'], axis = 1)"
   ]
  },
  {
   "cell_type": "code",
   "execution_count": 73,
   "metadata": {},
   "outputs": [
    {
     "data": {
      "text/html": [
       "<div>\n",
       "<table border=\"1\" class=\"dataframe\">\n",
       "  <thead>\n",
       "    <tr style=\"text-align: right;\">\n",
       "      <th></th>\n",
       "      <th>display_name</th>\n",
       "      <th>rating</th>\n",
       "    </tr>\n",
       "  </thead>\n",
       "  <tbody>\n",
       "    <tr>\n",
       "      <th>0</th>\n",
       "      <td>Titanic</td>\n",
       "      <td>PG-13</td>\n",
       "    </tr>\n",
       "    <tr>\n",
       "      <th>1</th>\n",
       "      <td>The Dark Knight</td>\n",
       "      <td>PG-13</td>\n",
       "    </tr>\n",
       "    <tr>\n",
       "      <th>2</th>\n",
       "      <td>Star Wars Ep. IV: A New Hope</td>\n",
       "      <td>PG</td>\n",
       "    </tr>\n",
       "    <tr>\n",
       "      <th>3</th>\n",
       "      <td>Shrek 2</td>\n",
       "      <td>PG</td>\n",
       "    </tr>\n",
       "    <tr>\n",
       "      <th>4</th>\n",
       "      <td>ET: The Extra-Terrestrial</td>\n",
       "      <td>PG</td>\n",
       "    </tr>\n",
       "  </tbody>\n",
       "</table>\n",
       "</div>"
      ],
      "text/plain": [
       "                   display_name rating\n",
       "0                       Titanic  PG-13\n",
       "1               The Dark Knight  PG-13\n",
       "2  Star Wars Ep. IV: A New Hope     PG\n",
       "3                       Shrek 2     PG\n",
       "4     ET: The Extra-Terrestrial     PG"
      ]
     },
     "execution_count": 73,
     "metadata": {},
     "output_type": "execute_result"
    }
   ],
   "source": [
    "df_MovieRatings.head()"
   ]
  },
  {
   "cell_type": "code",
   "execution_count": 74,
   "metadata": {},
   "outputs": [],
   "source": [
    "#Merge summary with ratings\n",
    "df_Summary_2 = df_Summary_1.merge(df_MovieRatings, on = 'display_name', how = 'left')\n"
   ]
  },
  {
   "cell_type": "code",
   "execution_count": 75,
   "metadata": {},
   "outputs": [
    {
     "data": {
      "text/plain": [
       "(24538, 25)"
      ]
     },
     "execution_count": 75,
     "metadata": {},
     "output_type": "execute_result"
    }
   ],
   "source": [
    "df_Summary_2.shape"
   ]
  },
  {
   "cell_type": "code",
   "execution_count": 76,
   "metadata": {},
   "outputs": [
    {
     "data": {
      "text/html": [
       "<div>\n",
       "<table border=\"1\" class=\"dataframe\">\n",
       "  <thead>\n",
       "    <tr style=\"text-align: right;\">\n",
       "      <th></th>\n",
       "      <th>odid</th>\n",
       "      <th>display_name</th>\n",
       "      <th>od_name</th>\n",
       "      <th>production_year</th>\n",
       "      <th>running_time</th>\n",
       "      <th>sequel</th>\n",
       "      <th>distributor</th>\n",
       "      <th>opening_weekend_revenue</th>\n",
       "      <th>opening_weekend_theaters</th>\n",
       "      <th>maximum_theaters</th>\n",
       "      <th>...</th>\n",
       "      <th>creative_type</th>\n",
       "      <th>source</th>\n",
       "      <th>production_method</th>\n",
       "      <th>genre</th>\n",
       "      <th>production_budget</th>\n",
       "      <th>domestic_box_office</th>\n",
       "      <th>international_box_office</th>\n",
       "      <th>inflation_adjusted_domestic_box_office</th>\n",
       "      <th>production_company</th>\n",
       "      <th>rating</th>\n",
       "    </tr>\n",
       "  </thead>\n",
       "  <tbody>\n",
       "    <tr>\n",
       "      <th>0</th>\n",
       "      <td>10100</td>\n",
       "      <td>Titanic</td>\n",
       "      <td>Titanic</td>\n",
       "      <td>1997</td>\n",
       "      <td>194.0</td>\n",
       "      <td>0.0</td>\n",
       "      <td>Paramount Pictures</td>\n",
       "      <td>28638131</td>\n",
       "      <td>2674</td>\n",
       "      <td>3265</td>\n",
       "      <td>...</td>\n",
       "      <td>Historical Fiction</td>\n",
       "      <td>Original Screenplay</td>\n",
       "      <td>Live Action</td>\n",
       "      <td>Thriller/Suspense</td>\n",
       "      <td>200000000</td>\n",
       "      <td>658672302.0</td>\n",
       "      <td>1.548943e+09</td>\n",
       "      <td>1.147349e+09</td>\n",
       "      <td>20th Century Fox</td>\n",
       "      <td>PG-13</td>\n",
       "    </tr>\n",
       "    <tr>\n",
       "      <th>1</th>\n",
       "      <td>10100</td>\n",
       "      <td>Titanic</td>\n",
       "      <td>Titanic</td>\n",
       "      <td>1997</td>\n",
       "      <td>194.0</td>\n",
       "      <td>0.0</td>\n",
       "      <td>Paramount Pictures</td>\n",
       "      <td>28638131</td>\n",
       "      <td>2674</td>\n",
       "      <td>3265</td>\n",
       "      <td>...</td>\n",
       "      <td>Historical Fiction</td>\n",
       "      <td>Original Screenplay</td>\n",
       "      <td>Live Action</td>\n",
       "      <td>Thriller/Suspense</td>\n",
       "      <td>200000000</td>\n",
       "      <td>658672302.0</td>\n",
       "      <td>1.548943e+09</td>\n",
       "      <td>1.147349e+09</td>\n",
       "      <td>Paramount Pictures</td>\n",
       "      <td>PG-13</td>\n",
       "    </tr>\n",
       "    <tr>\n",
       "      <th>2</th>\n",
       "      <td>10100</td>\n",
       "      <td>Titanic</td>\n",
       "      <td>Titanic</td>\n",
       "      <td>1997</td>\n",
       "      <td>194.0</td>\n",
       "      <td>0.0</td>\n",
       "      <td>Paramount Pictures</td>\n",
       "      <td>28638131</td>\n",
       "      <td>2674</td>\n",
       "      <td>3265</td>\n",
       "      <td>...</td>\n",
       "      <td>Historical Fiction</td>\n",
       "      <td>Original Screenplay</td>\n",
       "      <td>Live Action</td>\n",
       "      <td>Thriller/Suspense</td>\n",
       "      <td>200000000</td>\n",
       "      <td>658672302.0</td>\n",
       "      <td>1.548943e+09</td>\n",
       "      <td>1.147349e+09</td>\n",
       "      <td>Lightstorm Entertainment</td>\n",
       "      <td>PG-13</td>\n",
       "    </tr>\n",
       "    <tr>\n",
       "      <th>3</th>\n",
       "      <td>20100</td>\n",
       "      <td>The Dark Knight</td>\n",
       "      <td>Dark Knight The</td>\n",
       "      <td>2008</td>\n",
       "      <td>152.0</td>\n",
       "      <td>1.0</td>\n",
       "      <td>Warner Bros.</td>\n",
       "      <td>158411483</td>\n",
       "      <td>4366</td>\n",
       "      <td>4366</td>\n",
       "      <td>...</td>\n",
       "      <td>Super Hero</td>\n",
       "      <td>Based on Comic/Graphic Novel</td>\n",
       "      <td>Live Action</td>\n",
       "      <td>Action</td>\n",
       "      <td>185000000</td>\n",
       "      <td>533345358.0</td>\n",
       "      <td>4.695460e+08</td>\n",
       "      <td>6.260806e+08</td>\n",
       "      <td>Legendary Pictures</td>\n",
       "      <td>PG-13</td>\n",
       "    </tr>\n",
       "    <tr>\n",
       "      <th>4</th>\n",
       "      <td>20100</td>\n",
       "      <td>The Dark Knight</td>\n",
       "      <td>Dark Knight The</td>\n",
       "      <td>2008</td>\n",
       "      <td>152.0</td>\n",
       "      <td>1.0</td>\n",
       "      <td>Warner Bros.</td>\n",
       "      <td>158411483</td>\n",
       "      <td>4366</td>\n",
       "      <td>4366</td>\n",
       "      <td>...</td>\n",
       "      <td>Super Hero</td>\n",
       "      <td>Based on Comic/Graphic Novel</td>\n",
       "      <td>Live Action</td>\n",
       "      <td>Action</td>\n",
       "      <td>185000000</td>\n",
       "      <td>533345358.0</td>\n",
       "      <td>4.695460e+08</td>\n",
       "      <td>6.260806e+08</td>\n",
       "      <td>Warner Bros.</td>\n",
       "      <td>PG-13</td>\n",
       "    </tr>\n",
       "  </tbody>\n",
       "</table>\n",
       "<p>5 rows × 25 columns</p>\n",
       "</div>"
      ],
      "text/plain": [
       "    odid     display_name          od_name  production_year  running_time  \\\n",
       "0  10100          Titanic          Titanic             1997         194.0   \n",
       "1  10100          Titanic          Titanic             1997         194.0   \n",
       "2  10100          Titanic          Titanic             1997         194.0   \n",
       "3  20100  The Dark Knight  Dark Knight The             2008         152.0   \n",
       "4  20100  The Dark Knight  Dark Knight The             2008         152.0   \n",
       "\n",
       "   sequel         distributor  opening_weekend_revenue  \\\n",
       "0     0.0  Paramount Pictures                 28638131   \n",
       "1     0.0  Paramount Pictures                 28638131   \n",
       "2     0.0  Paramount Pictures                 28638131   \n",
       "3     1.0        Warner Bros.                158411483   \n",
       "4     1.0        Warner Bros.                158411483   \n",
       "\n",
       "   opening_weekend_theaters  maximum_theaters   ...         creative_type  \\\n",
       "0                      2674              3265   ...    Historical Fiction   \n",
       "1                      2674              3265   ...    Historical Fiction   \n",
       "2                      2674              3265   ...    Historical Fiction   \n",
       "3                      4366              4366   ...            Super Hero   \n",
       "4                      4366              4366   ...            Super Hero   \n",
       "\n",
       "                         source  production_method              genre  \\\n",
       "0           Original Screenplay        Live Action  Thriller/Suspense   \n",
       "1           Original Screenplay        Live Action  Thriller/Suspense   \n",
       "2           Original Screenplay        Live Action  Thriller/Suspense   \n",
       "3  Based on Comic/Graphic Novel        Live Action             Action   \n",
       "4  Based on Comic/Graphic Novel        Live Action             Action   \n",
       "\n",
       "   production_budget domestic_box_office international_box_office  \\\n",
       "0          200000000         658672302.0             1.548943e+09   \n",
       "1          200000000         658672302.0             1.548943e+09   \n",
       "2          200000000         658672302.0             1.548943e+09   \n",
       "3          185000000         533345358.0             4.695460e+08   \n",
       "4          185000000         533345358.0             4.695460e+08   \n",
       "\n",
       "  inflation_adjusted_domestic_box_office        production_company  rating  \n",
       "0                           1.147349e+09          20th Century Fox   PG-13  \n",
       "1                           1.147349e+09        Paramount Pictures   PG-13  \n",
       "2                           1.147349e+09  Lightstorm Entertainment   PG-13  \n",
       "3                           6.260806e+08        Legendary Pictures   PG-13  \n",
       "4                           6.260806e+08              Warner Bros.   PG-13  \n",
       "\n",
       "[5 rows x 25 columns]"
      ]
     },
     "execution_count": 76,
     "metadata": {},
     "output_type": "execute_result"
    }
   ],
   "source": [
    "df_Summary_2.head()"
   ]
  },
  {
   "cell_type": "code",
   "execution_count": null,
   "metadata": {
    "collapsed": true
   },
   "outputs": [],
   "source": []
  },
  {
   "cell_type": "code",
   "execution_count": null,
   "metadata": {
    "collapsed": true
   },
   "outputs": [],
   "source": []
  },
  {
   "cell_type": "code",
   "execution_count": null,
   "metadata": {
    "collapsed": true
   },
   "outputs": [],
   "source": []
  },
  {
   "cell_type": "code",
   "execution_count": null,
   "metadata": {
    "collapsed": true
   },
   "outputs": [],
   "source": []
  },
  {
   "cell_type": "code",
   "execution_count": null,
   "metadata": {
    "collapsed": true
   },
   "outputs": [],
   "source": []
  },
  {
   "cell_type": "code",
   "execution_count": null,
   "metadata": {
    "collapsed": true
   },
   "outputs": [],
   "source": []
  },
  {
   "cell_type": "code",
   "execution_count": null,
   "metadata": {
    "collapsed": true
   },
   "outputs": [],
   "source": []
  },
  {
   "cell_type": "code",
   "execution_count": null,
   "metadata": {
    "collapsed": true
   },
   "outputs": [],
   "source": []
  },
  {
   "cell_type": "code",
   "execution_count": null,
   "metadata": {
    "collapsed": true
   },
   "outputs": [],
   "source": []
  },
  {
   "cell_type": "code",
   "execution_count": null,
   "metadata": {
    "collapsed": true
   },
   "outputs": [],
   "source": []
  },
  {
   "cell_type": "code",
   "execution_count": null,
   "metadata": {
    "collapsed": true
   },
   "outputs": [],
   "source": []
  },
  {
   "cell_type": "code",
   "execution_count": null,
   "metadata": {
    "collapsed": true
   },
   "outputs": [],
   "source": []
  },
  {
   "cell_type": "code",
   "execution_count": null,
   "metadata": {
    "collapsed": true
   },
   "outputs": [],
   "source": []
  },
  {
   "cell_type": "code",
   "execution_count": null,
   "metadata": {
    "collapsed": true
   },
   "outputs": [],
   "source": []
  },
  {
   "cell_type": "code",
   "execution_count": null,
   "metadata": {
    "collapsed": true
   },
   "outputs": [],
   "source": []
  },
  {
   "cell_type": "code",
   "execution_count": null,
   "metadata": {
    "collapsed": true
   },
   "outputs": [],
   "source": []
  },
  {
   "cell_type": "code",
   "execution_count": null,
   "metadata": {
    "collapsed": true
   },
   "outputs": [],
   "source": []
  },
  {
   "cell_type": "code",
   "execution_count": null,
   "metadata": {
    "collapsed": true
   },
   "outputs": [],
   "source": []
  },
  {
   "cell_type": "code",
   "execution_count": null,
   "metadata": {
    "collapsed": true
   },
   "outputs": [],
   "source": []
  },
  {
   "cell_type": "code",
   "execution_count": null,
   "metadata": {
    "collapsed": true
   },
   "outputs": [],
   "source": []
  },
  {
   "cell_type": "code",
   "execution_count": null,
   "metadata": {
    "collapsed": true
   },
   "outputs": [],
   "source": []
  },
  {
   "cell_type": "code",
   "execution_count": null,
   "metadata": {
    "collapsed": true
   },
   "outputs": [],
   "source": []
  },
  {
   "cell_type": "code",
   "execution_count": null,
   "metadata": {
    "collapsed": true
   },
   "outputs": [],
   "source": []
  },
  {
   "cell_type": "code",
   "execution_count": null,
   "metadata": {
    "collapsed": true
   },
   "outputs": [],
   "source": []
  },
  {
   "cell_type": "code",
   "execution_count": null,
   "metadata": {
    "collapsed": true
   },
   "outputs": [],
   "source": []
  },
  {
   "cell_type": "code",
   "execution_count": null,
   "metadata": {
    "collapsed": true
   },
   "outputs": [],
   "source": []
  },
  {
   "cell_type": "code",
   "execution_count": null,
   "metadata": {
    "collapsed": true
   },
   "outputs": [],
   "source": []
  },
  {
   "cell_type": "code",
   "execution_count": null,
   "metadata": {
    "collapsed": true
   },
   "outputs": [],
   "source": []
  },
  {
   "cell_type": "code",
   "execution_count": null,
   "metadata": {
    "collapsed": true
   },
   "outputs": [],
   "source": []
  },
  {
   "cell_type": "code",
   "execution_count": null,
   "metadata": {
    "collapsed": true
   },
   "outputs": [],
   "source": []
  },
  {
   "cell_type": "code",
   "execution_count": null,
   "metadata": {
    "collapsed": true
   },
   "outputs": [],
   "source": []
  },
  {
   "cell_type": "code",
   "execution_count": null,
   "metadata": {
    "collapsed": true
   },
   "outputs": [],
   "source": []
  },
  {
   "cell_type": "code",
   "execution_count": null,
   "metadata": {
    "collapsed": true
   },
   "outputs": [],
   "source": []
  },
  {
   "cell_type": "code",
   "execution_count": null,
   "metadata": {
    "collapsed": true
   },
   "outputs": [],
   "source": []
  }
 ],
 "metadata": {
  "anaconda-cloud": {},
  "kernelspec": {
   "display_name": "Python [default]",
   "language": "python",
   "name": "python3"
  },
  "language_info": {
   "codemirror_mode": {
    "name": "ipython",
    "version": 3
   },
   "file_extension": ".py",
   "mimetype": "text/x-python",
   "name": "python",
   "nbconvert_exporter": "python",
   "pygments_lexer": "ipython3",
   "version": "3.5.2"
  }
 },
 "nbformat": 4,
 "nbformat_minor": 2
}
